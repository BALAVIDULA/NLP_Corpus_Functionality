{
  "nbformat": 4,
  "nbformat_minor": 0,
  "metadata": {
    "colab": {
      "provenance": []
    },
    "kernelspec": {
      "name": "python3",
      "display_name": "Python 3"
    },
    "language_info": {
      "name": "python"
    }
  },
  "cells": [
    {
      "cell_type": "code",
      "execution_count": null,
      "metadata": {
        "id": "AbzsNvkV_tOu"
      },
      "outputs": [],
      "source": [
        "import nltk"
      ]
    },
    {
      "cell_type": "code",
      "source": [
        "nltk.download('brown')"
      ],
      "metadata": {
        "colab": {
          "base_uri": "https://localhost:8080/"
        },
        "id": "kPHp5OKsAlOo",
        "outputId": "ad5c3260-4174-420b-a527-44e09713fe91"
      },
      "execution_count": null,
      "outputs": [
        {
          "output_type": "stream",
          "name": "stderr",
          "text": [
            "[nltk_data] Downloading package brown to /root/nltk_data...\n",
            "[nltk_data]   Unzipping corpora/brown.zip.\n"
          ]
        },
        {
          "output_type": "execute_result",
          "data": {
            "text/plain": [
              "True"
            ]
          },
          "metadata": {},
          "execution_count": 2
        }
      ]
    },
    {
      "cell_type": "code",
      "source": [
        "from nltk.corpus import brown"
      ],
      "metadata": {
        "id": "abIZUU9jApp-"
      },
      "execution_count": null,
      "outputs": []
    },
    {
      "cell_type": "code",
      "source": [
        "brown.fileids()"
      ],
      "metadata": {
        "colab": {
          "base_uri": "https://localhost:8080/"
        },
        "id": "Zenbqc8gEij1",
        "outputId": "7c30c98f-3e2c-4387-b830-afefbee77feb"
      },
      "execution_count": null,
      "outputs": [
        {
          "output_type": "execute_result",
          "data": {
            "text/plain": [
              "['ca01',\n",
              " 'ca02',\n",
              " 'ca03',\n",
              " 'ca04',\n",
              " 'ca05',\n",
              " 'ca06',\n",
              " 'ca07',\n",
              " 'ca08',\n",
              " 'ca09',\n",
              " 'ca10',\n",
              " 'ca11',\n",
              " 'ca12',\n",
              " 'ca13',\n",
              " 'ca14',\n",
              " 'ca15',\n",
              " 'ca16',\n",
              " 'ca17',\n",
              " 'ca18',\n",
              " 'ca19',\n",
              " 'ca20',\n",
              " 'ca21',\n",
              " 'ca22',\n",
              " 'ca23',\n",
              " 'ca24',\n",
              " 'ca25',\n",
              " 'ca26',\n",
              " 'ca27',\n",
              " 'ca28',\n",
              " 'ca29',\n",
              " 'ca30',\n",
              " 'ca31',\n",
              " 'ca32',\n",
              " 'ca33',\n",
              " 'ca34',\n",
              " 'ca35',\n",
              " 'ca36',\n",
              " 'ca37',\n",
              " 'ca38',\n",
              " 'ca39',\n",
              " 'ca40',\n",
              " 'ca41',\n",
              " 'ca42',\n",
              " 'ca43',\n",
              " 'ca44',\n",
              " 'cb01',\n",
              " 'cb02',\n",
              " 'cb03',\n",
              " 'cb04',\n",
              " 'cb05',\n",
              " 'cb06',\n",
              " 'cb07',\n",
              " 'cb08',\n",
              " 'cb09',\n",
              " 'cb10',\n",
              " 'cb11',\n",
              " 'cb12',\n",
              " 'cb13',\n",
              " 'cb14',\n",
              " 'cb15',\n",
              " 'cb16',\n",
              " 'cb17',\n",
              " 'cb18',\n",
              " 'cb19',\n",
              " 'cb20',\n",
              " 'cb21',\n",
              " 'cb22',\n",
              " 'cb23',\n",
              " 'cb24',\n",
              " 'cb25',\n",
              " 'cb26',\n",
              " 'cb27',\n",
              " 'cc01',\n",
              " 'cc02',\n",
              " 'cc03',\n",
              " 'cc04',\n",
              " 'cc05',\n",
              " 'cc06',\n",
              " 'cc07',\n",
              " 'cc08',\n",
              " 'cc09',\n",
              " 'cc10',\n",
              " 'cc11',\n",
              " 'cc12',\n",
              " 'cc13',\n",
              " 'cc14',\n",
              " 'cc15',\n",
              " 'cc16',\n",
              " 'cc17',\n",
              " 'cd01',\n",
              " 'cd02',\n",
              " 'cd03',\n",
              " 'cd04',\n",
              " 'cd05',\n",
              " 'cd06',\n",
              " 'cd07',\n",
              " 'cd08',\n",
              " 'cd09',\n",
              " 'cd10',\n",
              " 'cd11',\n",
              " 'cd12',\n",
              " 'cd13',\n",
              " 'cd14',\n",
              " 'cd15',\n",
              " 'cd16',\n",
              " 'cd17',\n",
              " 'ce01',\n",
              " 'ce02',\n",
              " 'ce03',\n",
              " 'ce04',\n",
              " 'ce05',\n",
              " 'ce06',\n",
              " 'ce07',\n",
              " 'ce08',\n",
              " 'ce09',\n",
              " 'ce10',\n",
              " 'ce11',\n",
              " 'ce12',\n",
              " 'ce13',\n",
              " 'ce14',\n",
              " 'ce15',\n",
              " 'ce16',\n",
              " 'ce17',\n",
              " 'ce18',\n",
              " 'ce19',\n",
              " 'ce20',\n",
              " 'ce21',\n",
              " 'ce22',\n",
              " 'ce23',\n",
              " 'ce24',\n",
              " 'ce25',\n",
              " 'ce26',\n",
              " 'ce27',\n",
              " 'ce28',\n",
              " 'ce29',\n",
              " 'ce30',\n",
              " 'ce31',\n",
              " 'ce32',\n",
              " 'ce33',\n",
              " 'ce34',\n",
              " 'ce35',\n",
              " 'ce36',\n",
              " 'cf01',\n",
              " 'cf02',\n",
              " 'cf03',\n",
              " 'cf04',\n",
              " 'cf05',\n",
              " 'cf06',\n",
              " 'cf07',\n",
              " 'cf08',\n",
              " 'cf09',\n",
              " 'cf10',\n",
              " 'cf11',\n",
              " 'cf12',\n",
              " 'cf13',\n",
              " 'cf14',\n",
              " 'cf15',\n",
              " 'cf16',\n",
              " 'cf17',\n",
              " 'cf18',\n",
              " 'cf19',\n",
              " 'cf20',\n",
              " 'cf21',\n",
              " 'cf22',\n",
              " 'cf23',\n",
              " 'cf24',\n",
              " 'cf25',\n",
              " 'cf26',\n",
              " 'cf27',\n",
              " 'cf28',\n",
              " 'cf29',\n",
              " 'cf30',\n",
              " 'cf31',\n",
              " 'cf32',\n",
              " 'cf33',\n",
              " 'cf34',\n",
              " 'cf35',\n",
              " 'cf36',\n",
              " 'cf37',\n",
              " 'cf38',\n",
              " 'cf39',\n",
              " 'cf40',\n",
              " 'cf41',\n",
              " 'cf42',\n",
              " 'cf43',\n",
              " 'cf44',\n",
              " 'cf45',\n",
              " 'cf46',\n",
              " 'cf47',\n",
              " 'cf48',\n",
              " 'cg01',\n",
              " 'cg02',\n",
              " 'cg03',\n",
              " 'cg04',\n",
              " 'cg05',\n",
              " 'cg06',\n",
              " 'cg07',\n",
              " 'cg08',\n",
              " 'cg09',\n",
              " 'cg10',\n",
              " 'cg11',\n",
              " 'cg12',\n",
              " 'cg13',\n",
              " 'cg14',\n",
              " 'cg15',\n",
              " 'cg16',\n",
              " 'cg17',\n",
              " 'cg18',\n",
              " 'cg19',\n",
              " 'cg20',\n",
              " 'cg21',\n",
              " 'cg22',\n",
              " 'cg23',\n",
              " 'cg24',\n",
              " 'cg25',\n",
              " 'cg26',\n",
              " 'cg27',\n",
              " 'cg28',\n",
              " 'cg29',\n",
              " 'cg30',\n",
              " 'cg31',\n",
              " 'cg32',\n",
              " 'cg33',\n",
              " 'cg34',\n",
              " 'cg35',\n",
              " 'cg36',\n",
              " 'cg37',\n",
              " 'cg38',\n",
              " 'cg39',\n",
              " 'cg40',\n",
              " 'cg41',\n",
              " 'cg42',\n",
              " 'cg43',\n",
              " 'cg44',\n",
              " 'cg45',\n",
              " 'cg46',\n",
              " 'cg47',\n",
              " 'cg48',\n",
              " 'cg49',\n",
              " 'cg50',\n",
              " 'cg51',\n",
              " 'cg52',\n",
              " 'cg53',\n",
              " 'cg54',\n",
              " 'cg55',\n",
              " 'cg56',\n",
              " 'cg57',\n",
              " 'cg58',\n",
              " 'cg59',\n",
              " 'cg60',\n",
              " 'cg61',\n",
              " 'cg62',\n",
              " 'cg63',\n",
              " 'cg64',\n",
              " 'cg65',\n",
              " 'cg66',\n",
              " 'cg67',\n",
              " 'cg68',\n",
              " 'cg69',\n",
              " 'cg70',\n",
              " 'cg71',\n",
              " 'cg72',\n",
              " 'cg73',\n",
              " 'cg74',\n",
              " 'cg75',\n",
              " 'ch01',\n",
              " 'ch02',\n",
              " 'ch03',\n",
              " 'ch04',\n",
              " 'ch05',\n",
              " 'ch06',\n",
              " 'ch07',\n",
              " 'ch08',\n",
              " 'ch09',\n",
              " 'ch10',\n",
              " 'ch11',\n",
              " 'ch12',\n",
              " 'ch13',\n",
              " 'ch14',\n",
              " 'ch15',\n",
              " 'ch16',\n",
              " 'ch17',\n",
              " 'ch18',\n",
              " 'ch19',\n",
              " 'ch20',\n",
              " 'ch21',\n",
              " 'ch22',\n",
              " 'ch23',\n",
              " 'ch24',\n",
              " 'ch25',\n",
              " 'ch26',\n",
              " 'ch27',\n",
              " 'ch28',\n",
              " 'ch29',\n",
              " 'ch30',\n",
              " 'cj01',\n",
              " 'cj02',\n",
              " 'cj03',\n",
              " 'cj04',\n",
              " 'cj05',\n",
              " 'cj06',\n",
              " 'cj07',\n",
              " 'cj08',\n",
              " 'cj09',\n",
              " 'cj10',\n",
              " 'cj11',\n",
              " 'cj12',\n",
              " 'cj13',\n",
              " 'cj14',\n",
              " 'cj15',\n",
              " 'cj16',\n",
              " 'cj17',\n",
              " 'cj18',\n",
              " 'cj19',\n",
              " 'cj20',\n",
              " 'cj21',\n",
              " 'cj22',\n",
              " 'cj23',\n",
              " 'cj24',\n",
              " 'cj25',\n",
              " 'cj26',\n",
              " 'cj27',\n",
              " 'cj28',\n",
              " 'cj29',\n",
              " 'cj30',\n",
              " 'cj31',\n",
              " 'cj32',\n",
              " 'cj33',\n",
              " 'cj34',\n",
              " 'cj35',\n",
              " 'cj36',\n",
              " 'cj37',\n",
              " 'cj38',\n",
              " 'cj39',\n",
              " 'cj40',\n",
              " 'cj41',\n",
              " 'cj42',\n",
              " 'cj43',\n",
              " 'cj44',\n",
              " 'cj45',\n",
              " 'cj46',\n",
              " 'cj47',\n",
              " 'cj48',\n",
              " 'cj49',\n",
              " 'cj50',\n",
              " 'cj51',\n",
              " 'cj52',\n",
              " 'cj53',\n",
              " 'cj54',\n",
              " 'cj55',\n",
              " 'cj56',\n",
              " 'cj57',\n",
              " 'cj58',\n",
              " 'cj59',\n",
              " 'cj60',\n",
              " 'cj61',\n",
              " 'cj62',\n",
              " 'cj63',\n",
              " 'cj64',\n",
              " 'cj65',\n",
              " 'cj66',\n",
              " 'cj67',\n",
              " 'cj68',\n",
              " 'cj69',\n",
              " 'cj70',\n",
              " 'cj71',\n",
              " 'cj72',\n",
              " 'cj73',\n",
              " 'cj74',\n",
              " 'cj75',\n",
              " 'cj76',\n",
              " 'cj77',\n",
              " 'cj78',\n",
              " 'cj79',\n",
              " 'cj80',\n",
              " 'ck01',\n",
              " 'ck02',\n",
              " 'ck03',\n",
              " 'ck04',\n",
              " 'ck05',\n",
              " 'ck06',\n",
              " 'ck07',\n",
              " 'ck08',\n",
              " 'ck09',\n",
              " 'ck10',\n",
              " 'ck11',\n",
              " 'ck12',\n",
              " 'ck13',\n",
              " 'ck14',\n",
              " 'ck15',\n",
              " 'ck16',\n",
              " 'ck17',\n",
              " 'ck18',\n",
              " 'ck19',\n",
              " 'ck20',\n",
              " 'ck21',\n",
              " 'ck22',\n",
              " 'ck23',\n",
              " 'ck24',\n",
              " 'ck25',\n",
              " 'ck26',\n",
              " 'ck27',\n",
              " 'ck28',\n",
              " 'ck29',\n",
              " 'cl01',\n",
              " 'cl02',\n",
              " 'cl03',\n",
              " 'cl04',\n",
              " 'cl05',\n",
              " 'cl06',\n",
              " 'cl07',\n",
              " 'cl08',\n",
              " 'cl09',\n",
              " 'cl10',\n",
              " 'cl11',\n",
              " 'cl12',\n",
              " 'cl13',\n",
              " 'cl14',\n",
              " 'cl15',\n",
              " 'cl16',\n",
              " 'cl17',\n",
              " 'cl18',\n",
              " 'cl19',\n",
              " 'cl20',\n",
              " 'cl21',\n",
              " 'cl22',\n",
              " 'cl23',\n",
              " 'cl24',\n",
              " 'cm01',\n",
              " 'cm02',\n",
              " 'cm03',\n",
              " 'cm04',\n",
              " 'cm05',\n",
              " 'cm06',\n",
              " 'cn01',\n",
              " 'cn02',\n",
              " 'cn03',\n",
              " 'cn04',\n",
              " 'cn05',\n",
              " 'cn06',\n",
              " 'cn07',\n",
              " 'cn08',\n",
              " 'cn09',\n",
              " 'cn10',\n",
              " 'cn11',\n",
              " 'cn12',\n",
              " 'cn13',\n",
              " 'cn14',\n",
              " 'cn15',\n",
              " 'cn16',\n",
              " 'cn17',\n",
              " 'cn18',\n",
              " 'cn19',\n",
              " 'cn20',\n",
              " 'cn21',\n",
              " 'cn22',\n",
              " 'cn23',\n",
              " 'cn24',\n",
              " 'cn25',\n",
              " 'cn26',\n",
              " 'cn27',\n",
              " 'cn28',\n",
              " 'cn29',\n",
              " 'cp01',\n",
              " 'cp02',\n",
              " 'cp03',\n",
              " 'cp04',\n",
              " 'cp05',\n",
              " 'cp06',\n",
              " 'cp07',\n",
              " 'cp08',\n",
              " 'cp09',\n",
              " 'cp10',\n",
              " 'cp11',\n",
              " 'cp12',\n",
              " 'cp13',\n",
              " 'cp14',\n",
              " 'cp15',\n",
              " 'cp16',\n",
              " 'cp17',\n",
              " 'cp18',\n",
              " 'cp19',\n",
              " 'cp20',\n",
              " 'cp21',\n",
              " 'cp22',\n",
              " 'cp23',\n",
              " 'cp24',\n",
              " 'cp25',\n",
              " 'cp26',\n",
              " 'cp27',\n",
              " 'cp28',\n",
              " 'cp29',\n",
              " 'cr01',\n",
              " 'cr02',\n",
              " 'cr03',\n",
              " 'cr04',\n",
              " 'cr05',\n",
              " 'cr06',\n",
              " 'cr07',\n",
              " 'cr08',\n",
              " 'cr09']"
            ]
          },
          "metadata": {},
          "execution_count": 16
        }
      ]
    },
    {
      "cell_type": "code",
      "source": [
        "brown.categories()\n"
      ],
      "metadata": {
        "colab": {
          "base_uri": "https://localhost:8080/"
        },
        "id": "ucWXazliAubX",
        "outputId": "3d6964af-63f2-453d-8493-72c25a1c8f44"
      },
      "execution_count": null,
      "outputs": [
        {
          "output_type": "execute_result",
          "data": {
            "text/plain": [
              "['adventure',\n",
              " 'belles_lettres',\n",
              " 'editorial',\n",
              " 'fiction',\n",
              " 'government',\n",
              " 'hobbies',\n",
              " 'humor',\n",
              " 'learned',\n",
              " 'lore',\n",
              " 'mystery',\n",
              " 'news',\n",
              " 'religion',\n",
              " 'reviews',\n",
              " 'romance',\n",
              " 'science_fiction']"
            ]
          },
          "metadata": {},
          "execution_count": 12
        }
      ]
    },
    {
      "cell_type": "code",
      "source": [
        "brown.words(categories=\"romance\")"
      ],
      "metadata": {
        "colab": {
          "base_uri": "https://localhost:8080/"
        },
        "id": "A9uTFtesBLNx",
        "outputId": "444a52f6-1a2f-4345-f93b-3081ad2f992f"
      },
      "execution_count": null,
      "outputs": [
        {
          "output_type": "execute_result",
          "data": {
            "text/plain": [
              "['They', 'neither', 'liked', 'nor', 'disliked', 'the', ...]"
            ]
          },
          "metadata": {},
          "execution_count": 11
        }
      ]
    },
    {
      "cell_type": "code",
      "source": [
        "brown.words(fileids='ck11')"
      ],
      "metadata": {
        "colab": {
          "base_uri": "https://localhost:8080/"
        },
        "id": "7-E8n0e5B5MH",
        "outputId": "d31dbec0-bcfd-41c6-9143-20a67dae0b20"
      },
      "execution_count": null,
      "outputs": [
        {
          "output_type": "execute_result",
          "data": {
            "text/plain": [
              "['Standing', 'in', 'the', 'shelter', 'of', 'the', ...]"
            ]
          },
          "metadata": {},
          "execution_count": 17
        }
      ]
    },
    {
      "cell_type": "code",
      "source": [
        "brown.sents(categories=['news', 'editorial', 'reviews'])"
      ],
      "metadata": {
        "colab": {
          "base_uri": "https://localhost:8080/"
        },
        "id": "oauEEt-DFJZM",
        "outputId": "a92e9e27-3e4c-4435-87a1-10697ef93ab0"
      },
      "execution_count": null,
      "outputs": [
        {
          "output_type": "execute_result",
          "data": {
            "text/plain": [
              "[['The', 'Fulton', 'County', 'Grand', 'Jury', 'said', 'Friday', 'an', 'investigation', 'of', \"Atlanta's\", 'recent', 'primary', 'election', 'produced', '``', 'no', 'evidence', \"''\", 'that', 'any', 'irregularities', 'took', 'place', '.'], ['The', 'jury', 'further', 'said', 'in', 'term-end', 'presentments', 'that', 'the', 'City', 'Executive', 'Committee', ',', 'which', 'had', 'over-all', 'charge', 'of', 'the', 'election', ',', '``', 'deserves', 'the', 'praise', 'and', 'thanks', 'of', 'the', 'City', 'of', 'Atlanta', \"''\", 'for', 'the', 'manner', 'in', 'which', 'the', 'election', 'was', 'conducted', '.'], ...]"
            ]
          },
          "metadata": {},
          "execution_count": 18
        }
      ]
    },
    {
      "cell_type": "code",
      "source": [
        "doc = 'cg24'\n",
        "\n",
        "words = brown.words(fileids=doc)\n",
        "sentences = brown.sents(fileids=doc)\n",
        "\n",
        "print(f\"\\nAnalysis of document '{doc}':\")\n",
        "print(\"Number of words:\", len(words))\n",
        "print(\"Number of sentences:\", len(sentences))\n"
      ],
      "metadata": {
        "colab": {
          "base_uri": "https://localhost:8080/"
        },
        "id": "-FBLyBu6I9_u",
        "outputId": "a978712a-ec24-49a8-da4f-0d639a91e50e"
      },
      "execution_count": null,
      "outputs": [
        {
          "output_type": "stream",
          "name": "stdout",
          "text": [
            "\n",
            "Analysis of document 'cg24':\n",
            "Number of words: 2211\n",
            "Number of sentences: 73\n"
          ]
        }
      ]
    },
    {
      "cell_type": "code",
      "source": [
        "genres = brown.categories(fileids=doc)\n",
        "print(\"Genres:\", genres)\n",
        "\n",
        "modals = [word.lower() for word in words if word.lower() in ['can', 'could', 'may', 'might', 'shall', 'should', 'will', 'would', 'must']]\n",
        "print(\"Modals:\", modals)\n"
      ],
      "metadata": {
        "colab": {
          "base_uri": "https://localhost:8080/"
        },
        "id": "RkhXWSDmI-Dj",
        "outputId": "f21bca8d-7d9f-4bd5-e48f-5d835d79a878"
      },
      "execution_count": null,
      "outputs": [
        {
          "output_type": "stream",
          "name": "stdout",
          "text": [
            "Genres: ['belles_lettres']\n",
            "Modals: ['would', 'would', 'might', 'will', 'could', 'will', 'should', 'would', 'can', 'can', 'can', 'can', 'should', 'can', 'will', 'may', 'would', 'could', 'can', 'could', 'would', 'must', 'will', 'should', 'might', 'can', 'can', 'can', 'may', 'may', 'will', 'can', 'can']\n"
          ]
        }
      ]
    },
    {
      "cell_type": "code",
      "source": [
        "news_text=brown.words(categories=\"news\")\n",
        "Freq=nltk.FreqDist(i.lower() for i in news_text)\n",
        "\n",
        "modals = ['can', 'could', 'may', 'might', 'must', 'will']\n",
        "for i in modals:\n",
        "  print(i,\":\",Freq[i],end=\" \")"
      ],
      "metadata": {
        "colab": {
          "base_uri": "https://localhost:8080/"
        },
        "id": "21kdnJCBFPk-",
        "outputId": "1db467e7-1357-4047-f40e-de80db9d7f4e"
      },
      "execution_count": null,
      "outputs": [
        {
          "output_type": "stream",
          "name": "stdout",
          "text": [
            "can : 94 could : 87 may : 93 might : 38 must : 53 will : 389 "
          ]
        }
      ]
    },
    {
      "cell_type": "code",
      "source": [
        "wh_words = [word.lower() for word in words if word.lower().startswith('wh')]\n",
        "wh_word_count = len(wh_words)\n",
        "print(\"Number of 'wh' words:\", wh_word_count)\n"
      ],
      "metadata": {
        "colab": {
          "base_uri": "https://localhost:8080/"
        },
        "id": "EhJkCFgCI-JJ",
        "outputId": "e5687c2b-c6cf-42b1-d1ae-162787d11d39"
      },
      "execution_count": null,
      "outputs": [
        {
          "output_type": "stream",
          "name": "stdout",
          "text": [
            "Number of 'wh' words: 46\n"
          ]
        }
      ]
    },
    {
      "cell_type": "code",
      "source": [
        "\n",
        "fdist = nltk.FreqDist(words)\n",
        "print(\"\\nFrequency Distribution:\")\n",
        "print(fdist.most_common(10))\n"
      ],
      "metadata": {
        "colab": {
          "base_uri": "https://localhost:8080/"
        },
        "id": "RcbP5oMJI-L8",
        "outputId": "f0f0929e-c778-47a9-bdfd-711d75e70ea7"
      },
      "execution_count": null,
      "outputs": [
        {
          "output_type": "stream",
          "name": "stdout",
          "text": [
            "\n",
            "Frequency Distribution:\n",
            "[('the', 197), ('of', 100), (',', 73), ('.', 70), ('to', 61), ('a', 50), ('in', 40), ('his', 36), ('which', 31), ('that', 29)]\n"
          ]
        }
      ]
    },
    {
      "cell_type": "code",
      "source": [
        "# 1. List the files in the corpus\n",
        "files = brown.fileids()\n",
        "print(\"1.Files in Brown Corpus:\", files)\n",
        "\n",
        "# 2. List the files in specific categories\n",
        "selected_categories = ['news', 'editorial']\n",
        "files_in_categories = brown.fileids(categories=selected_categories)\n",
        "print(f\"2.Files in categories {selected_categories}: {files_in_categories}\")\n",
        "\n",
        "# 3. List the categories in the corpus\n",
        "categories = brown.categories()\n",
        "print(\"3.Categories in Brown Corpus:\", categories)\n",
        "\n",
        "# 4. List the categories for specific files\n",
        "selected_files = ['ca01', 'cb02']\n",
        "categories_for_files = brown.categories(fileids=selected_files)\n",
        "print(f\"4.Categories for files {selected_files}: {categories_for_files}\")\n",
        "\n",
        "# 5. Retrieve the raw content of the corpus\n",
        "raw_content = brown.raw()\n",
        "print(\"5.Raw content of the Brown Corpus:\", raw_content[:200])  # Displaying the first 200 characters\n",
        "\n",
        "# 6. Retrieve the raw content for specific files\n",
        "raw_content_files = brown.raw(fileids=['ca01', 'cb02'])\n",
        "print(\"6.Raw content of selected files:\", raw_content_files[:200])\n",
        "\n",
        "# 7. Retrieve the raw content for specific categories\n",
        "raw_content_categories = brown.raw(categories=['news', 'editorial'])\n",
        "print(\"7.Raw content of selected categories:\", raw_content_categories[:200])\n",
        "\n",
        "# 8. Retrieve the words of the whole corpus\n",
        "all_words = brown.words()\n",
        "print(\"8.Total number of words in the Brown Corpus:\", len(all_words))\n",
        "\n",
        "# 9. Retrieve the words for specific files\n",
        "words_in_files = brown.words(fileids=['ca01', 'cb02'])\n",
        "print(\"9.Words in selected files:\", len(words_in_files))\n",
        "\n",
        "# 10. Retrieve the words for specific categories\n",
        "words_in_categories = brown.words(categories=['news', 'editorial'])\n",
        "print(\"10.Words in selected categories:\", len(words_in_categories))\n",
        "\n",
        "# 11. Retrieve the sentences of the whole corpus\n",
        "all_sentences = brown.sents()\n",
        "print(\"11.Total number of sentences in the Brown Corpus:\", len(all_sentences))\n",
        "\n",
        "# 12. Retrieve the sentences for specific files\n",
        "sentences_in_files = brown.sents(fileids=['ca01', 'cb02'])\n",
        "print(\"12.Sentences in selected files:\", len(sentences_in_files))\n",
        "\n",
        "# 13. Retrieve the sentences for specific categories\n",
        "sentences_in_categories = brown.sents(categories=['news', 'editorial'])\n",
        "print(\"13.Sentences in selected categories:\", len(sentences_in_categories))\n",
        "\n",
        "# 14. Get the absolute path of a file\n",
        "file_path = brown.abspath('ca01')\n",
        "print(\"14.Absolute path of 'ca01':\", file_path)\n",
        "\n",
        "# 15. Get the encoding of a file\n",
        "file_encoding = brown.encoding('ca01')\n",
        "print(\"15.Encoding of 'ca01':\", file_encoding)\n",
        "\n",
        "# 16. Open and read a file\n",
        "file_content = brown.open('ca01').read()\n",
        "print(\"16.Content of 'ca01':\", file_content[:200])  # Displaying the first 200 characters\n",
        "\n",
        "# 17. Get the root path of the corpus\n",
        "corpus_root = brown.root\n",
        "print(\"17.Root path of the Brown Corpus:\", corpus_root)\n",
        "\n",
        "# 18. Read the README file of the corpus\n",
        "readme_content = brown.readme()\n",
        "print(\"18.README content of the Brown Corpus:\", readme_content[:500])  # Displaying the first 500 characters"
      ],
      "metadata": {
        "colab": {
          "base_uri": "https://localhost:8080/"
        },
        "id": "P_zw0XbmI-O5",
        "outputId": "78462f34-cb3a-453c-a566-4c889a32fbff"
      },
      "execution_count": null,
      "outputs": [
        {
          "output_type": "stream",
          "name": "stdout",
          "text": [
            "1.Files in Brown Corpus: ['ca01', 'ca02', 'ca03', 'ca04', 'ca05', 'ca06', 'ca07', 'ca08', 'ca09', 'ca10', 'ca11', 'ca12', 'ca13', 'ca14', 'ca15', 'ca16', 'ca17', 'ca18', 'ca19', 'ca20', 'ca21', 'ca22', 'ca23', 'ca24', 'ca25', 'ca26', 'ca27', 'ca28', 'ca29', 'ca30', 'ca31', 'ca32', 'ca33', 'ca34', 'ca35', 'ca36', 'ca37', 'ca38', 'ca39', 'ca40', 'ca41', 'ca42', 'ca43', 'ca44', 'cb01', 'cb02', 'cb03', 'cb04', 'cb05', 'cb06', 'cb07', 'cb08', 'cb09', 'cb10', 'cb11', 'cb12', 'cb13', 'cb14', 'cb15', 'cb16', 'cb17', 'cb18', 'cb19', 'cb20', 'cb21', 'cb22', 'cb23', 'cb24', 'cb25', 'cb26', 'cb27', 'cc01', 'cc02', 'cc03', 'cc04', 'cc05', 'cc06', 'cc07', 'cc08', 'cc09', 'cc10', 'cc11', 'cc12', 'cc13', 'cc14', 'cc15', 'cc16', 'cc17', 'cd01', 'cd02', 'cd03', 'cd04', 'cd05', 'cd06', 'cd07', 'cd08', 'cd09', 'cd10', 'cd11', 'cd12', 'cd13', 'cd14', 'cd15', 'cd16', 'cd17', 'ce01', 'ce02', 'ce03', 'ce04', 'ce05', 'ce06', 'ce07', 'ce08', 'ce09', 'ce10', 'ce11', 'ce12', 'ce13', 'ce14', 'ce15', 'ce16', 'ce17', 'ce18', 'ce19', 'ce20', 'ce21', 'ce22', 'ce23', 'ce24', 'ce25', 'ce26', 'ce27', 'ce28', 'ce29', 'ce30', 'ce31', 'ce32', 'ce33', 'ce34', 'ce35', 'ce36', 'cf01', 'cf02', 'cf03', 'cf04', 'cf05', 'cf06', 'cf07', 'cf08', 'cf09', 'cf10', 'cf11', 'cf12', 'cf13', 'cf14', 'cf15', 'cf16', 'cf17', 'cf18', 'cf19', 'cf20', 'cf21', 'cf22', 'cf23', 'cf24', 'cf25', 'cf26', 'cf27', 'cf28', 'cf29', 'cf30', 'cf31', 'cf32', 'cf33', 'cf34', 'cf35', 'cf36', 'cf37', 'cf38', 'cf39', 'cf40', 'cf41', 'cf42', 'cf43', 'cf44', 'cf45', 'cf46', 'cf47', 'cf48', 'cg01', 'cg02', 'cg03', 'cg04', 'cg05', 'cg06', 'cg07', 'cg08', 'cg09', 'cg10', 'cg11', 'cg12', 'cg13', 'cg14', 'cg15', 'cg16', 'cg17', 'cg18', 'cg19', 'cg20', 'cg21', 'cg22', 'cg23', 'cg24', 'cg25', 'cg26', 'cg27', 'cg28', 'cg29', 'cg30', 'cg31', 'cg32', 'cg33', 'cg34', 'cg35', 'cg36', 'cg37', 'cg38', 'cg39', 'cg40', 'cg41', 'cg42', 'cg43', 'cg44', 'cg45', 'cg46', 'cg47', 'cg48', 'cg49', 'cg50', 'cg51', 'cg52', 'cg53', 'cg54', 'cg55', 'cg56', 'cg57', 'cg58', 'cg59', 'cg60', 'cg61', 'cg62', 'cg63', 'cg64', 'cg65', 'cg66', 'cg67', 'cg68', 'cg69', 'cg70', 'cg71', 'cg72', 'cg73', 'cg74', 'cg75', 'ch01', 'ch02', 'ch03', 'ch04', 'ch05', 'ch06', 'ch07', 'ch08', 'ch09', 'ch10', 'ch11', 'ch12', 'ch13', 'ch14', 'ch15', 'ch16', 'ch17', 'ch18', 'ch19', 'ch20', 'ch21', 'ch22', 'ch23', 'ch24', 'ch25', 'ch26', 'ch27', 'ch28', 'ch29', 'ch30', 'cj01', 'cj02', 'cj03', 'cj04', 'cj05', 'cj06', 'cj07', 'cj08', 'cj09', 'cj10', 'cj11', 'cj12', 'cj13', 'cj14', 'cj15', 'cj16', 'cj17', 'cj18', 'cj19', 'cj20', 'cj21', 'cj22', 'cj23', 'cj24', 'cj25', 'cj26', 'cj27', 'cj28', 'cj29', 'cj30', 'cj31', 'cj32', 'cj33', 'cj34', 'cj35', 'cj36', 'cj37', 'cj38', 'cj39', 'cj40', 'cj41', 'cj42', 'cj43', 'cj44', 'cj45', 'cj46', 'cj47', 'cj48', 'cj49', 'cj50', 'cj51', 'cj52', 'cj53', 'cj54', 'cj55', 'cj56', 'cj57', 'cj58', 'cj59', 'cj60', 'cj61', 'cj62', 'cj63', 'cj64', 'cj65', 'cj66', 'cj67', 'cj68', 'cj69', 'cj70', 'cj71', 'cj72', 'cj73', 'cj74', 'cj75', 'cj76', 'cj77', 'cj78', 'cj79', 'cj80', 'ck01', 'ck02', 'ck03', 'ck04', 'ck05', 'ck06', 'ck07', 'ck08', 'ck09', 'ck10', 'ck11', 'ck12', 'ck13', 'ck14', 'ck15', 'ck16', 'ck17', 'ck18', 'ck19', 'ck20', 'ck21', 'ck22', 'ck23', 'ck24', 'ck25', 'ck26', 'ck27', 'ck28', 'ck29', 'cl01', 'cl02', 'cl03', 'cl04', 'cl05', 'cl06', 'cl07', 'cl08', 'cl09', 'cl10', 'cl11', 'cl12', 'cl13', 'cl14', 'cl15', 'cl16', 'cl17', 'cl18', 'cl19', 'cl20', 'cl21', 'cl22', 'cl23', 'cl24', 'cm01', 'cm02', 'cm03', 'cm04', 'cm05', 'cm06', 'cn01', 'cn02', 'cn03', 'cn04', 'cn05', 'cn06', 'cn07', 'cn08', 'cn09', 'cn10', 'cn11', 'cn12', 'cn13', 'cn14', 'cn15', 'cn16', 'cn17', 'cn18', 'cn19', 'cn20', 'cn21', 'cn22', 'cn23', 'cn24', 'cn25', 'cn26', 'cn27', 'cn28', 'cn29', 'cp01', 'cp02', 'cp03', 'cp04', 'cp05', 'cp06', 'cp07', 'cp08', 'cp09', 'cp10', 'cp11', 'cp12', 'cp13', 'cp14', 'cp15', 'cp16', 'cp17', 'cp18', 'cp19', 'cp20', 'cp21', 'cp22', 'cp23', 'cp24', 'cp25', 'cp26', 'cp27', 'cp28', 'cp29', 'cr01', 'cr02', 'cr03', 'cr04', 'cr05', 'cr06', 'cr07', 'cr08', 'cr09']\n",
            "2.Files in categories ['news', 'editorial']: ['ca01', 'ca02', 'ca03', 'ca04', 'ca05', 'ca06', 'ca07', 'ca08', 'ca09', 'ca10', 'ca11', 'ca12', 'ca13', 'ca14', 'ca15', 'ca16', 'ca17', 'ca18', 'ca19', 'ca20', 'ca21', 'ca22', 'ca23', 'ca24', 'ca25', 'ca26', 'ca27', 'ca28', 'ca29', 'ca30', 'ca31', 'ca32', 'ca33', 'ca34', 'ca35', 'ca36', 'ca37', 'ca38', 'ca39', 'ca40', 'ca41', 'ca42', 'ca43', 'ca44', 'cb01', 'cb02', 'cb03', 'cb04', 'cb05', 'cb06', 'cb07', 'cb08', 'cb09', 'cb10', 'cb11', 'cb12', 'cb13', 'cb14', 'cb15', 'cb16', 'cb17', 'cb18', 'cb19', 'cb20', 'cb21', 'cb22', 'cb23', 'cb24', 'cb25', 'cb26', 'cb27']\n",
            "3.Categories in Brown Corpus: ['adventure', 'belles_lettres', 'editorial', 'fiction', 'government', 'hobbies', 'humor', 'learned', 'lore', 'mystery', 'news', 'religion', 'reviews', 'romance', 'science_fiction']\n",
            "4.Categories for files ['ca01', 'cb02']: ['editorial', 'news']\n",
            "5.Raw content of the Brown Corpus: \n",
            "\n",
            "\tThe/at Fulton/np-tl County/nn-tl Grand/jj-tl Jury/nn-tl said/vbd Friday/nr an/at investigation/nn of/in Atlanta's/np$ recent/jj primary/nn election/nn produced/vbd ``/`` no/at evidence/nn ''/'' tha\n",
            "6.Raw content of selected files: \n",
            "\n",
            "\tThe/at Fulton/np-tl County/nn-tl Grand/jj-tl Jury/nn-tl said/vbd Friday/nr an/at investigation/nn of/in Atlanta's/np$ recent/jj primary/nn election/nn produced/vbd ``/`` no/at evidence/nn ''/'' tha\n",
            "7.Raw content of selected categories: \n",
            "\n",
            "\tThe/at Fulton/np-tl County/nn-tl Grand/jj-tl Jury/nn-tl said/vbd Friday/nr an/at investigation/nn of/in Atlanta's/np$ recent/jj primary/nn election/nn produced/vbd ``/`` no/at evidence/nn ''/'' tha\n",
            "8.Total number of words in the Brown Corpus: 1161192\n",
            "9.Words in selected files: 4476\n",
            "10.Words in selected categories: 162158\n",
            "11.Total number of sentences in the Brown Corpus: 57340\n",
            "12.Sentences in selected files: 193\n",
            "13.Sentences in selected categories: 7620\n",
            "14.Absolute path of 'ca01': /root/nltk_data/corpora/brown/ca01\n",
            "15.Encoding of 'ca01': ascii\n",
            "16.Content of 'ca01': \n",
            "\n",
            "\tThe/at Fulton/np-tl County/nn-tl Grand/jj-tl Jury/nn-tl said/vbd Friday/nr an/at investigation/nn of/in Atlanta's/np$ recent/jj primary/nn election/nn produced/vbd ``/`` no/at evidence/nn ''/'' tha\n",
            "17.Root path of the Brown Corpus: /root/nltk_data/corpora/brown\n",
            "18.README content of the Brown Corpus: BROWN CORPUS\n",
            "\n",
            "A Standard Corpus of Present-Day Edited American\n",
            "English, for use with Digital Computers.\n",
            "\n",
            "by W. N. Francis and H. Kucera (1964)\n",
            "Department of Linguistics, Brown University\n",
            "Providence, Rhode Island, USA\n",
            "\n",
            "Revised 1971, Revised and Amplified 1979\n",
            "\n",
            "http://www.hit.uib.no/icame/brown/bcm.html\n",
            "\n",
            "Distributed with the permission of the copyright holder,\n",
            "redistribution permitted.\n",
            "\n"
          ]
        }
      ]
    },
    {
      "cell_type": "code",
      "source": [],
      "metadata": {
        "id": "ZtpP8Ci-I-Rg"
      },
      "execution_count": null,
      "outputs": []
    },
    {
      "cell_type": "code",
      "source": [],
      "metadata": {
        "id": "LtlEH7T5I-Ug"
      },
      "execution_count": null,
      "outputs": []
    }
  ]
}